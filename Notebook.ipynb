{
 "cells": [
  {
   "cell_type": "code",
   "execution_count": 3,
   "metadata": {},
   "outputs": [],
   "source": [
    "import pandas as pd\n",
    "import numpy as np\n",
    "from pandas_profiling import ProfileReport\n",
    "from sklearn.preprocessing import StandardScaler, LabelEncoder\n",
    "from sklearn.model_selection import train_test_split\n",
    "import matplotlib.pyplot as plt"
   ]
  },
  {
   "cell_type": "code",
   "execution_count": 298,
   "metadata": {},
   "outputs": [
    {
     "data": {
      "text/html": [
       "<div>\n",
       "<style scoped>\n",
       "    .dataframe tbody tr th:only-of-type {\n",
       "        vertical-align: middle;\n",
       "    }\n",
       "\n",
       "    .dataframe tbody tr th {\n",
       "        vertical-align: top;\n",
       "    }\n",
       "\n",
       "    .dataframe thead th {\n",
       "        text-align: right;\n",
       "    }\n",
       "</style>\n",
       "<table border=\"1\" class=\"dataframe\">\n",
       "  <thead>\n",
       "    <tr style=\"text-align: right;\">\n",
       "      <th></th>\n",
       "      <th>simplified.significance</th>\n",
       "      <th>AA.wt</th>\n",
       "      <th>pos</th>\n",
       "      <th>AA.mut</th>\n",
       "      <th>year</th>\n",
       "      <th>foldx.ddg</th>\n",
       "      <th>covar.2d</th>\n",
       "      <th>Allele.Frequency</th>\n",
       "      <th>cb.nbr.cat</th>\n",
       "      <th>Allele.Count</th>\n",
       "      <th>genomic.locus</th>\n",
       "      <th>inheritance</th>\n",
       "      <th>disease.cat</th>\n",
       "      <th>protein</th>\n",
       "      <th>variant</th>\n",
       "      <th>AC.gnomAD</th>\n",
       "    </tr>\n",
       "  </thead>\n",
       "  <tbody>\n",
       "    <tr>\n",
       "      <th>0</th>\n",
       "      <td>pathogenic</td>\n",
       "      <td>R</td>\n",
       "      <td>303</td>\n",
       "      <td>C</td>\n",
       "      <td>2018.0</td>\n",
       "      <td>1.156203</td>\n",
       "      <td>0.656840</td>\n",
       "      <td>0.000020</td>\n",
       "      <td>buried</td>\n",
       "      <td>1</td>\n",
       "      <td>22-40757536-C-T</td>\n",
       "      <td>AR</td>\n",
       "      <td>metabolic</td>\n",
       "      <td>ADSL</td>\n",
       "      <td>ADSL_R303C</td>\n",
       "      <td>5</td>\n",
       "    </tr>\n",
       "    <tr>\n",
       "      <th>1</th>\n",
       "      <td>pathogenic</td>\n",
       "      <td>R</td>\n",
       "      <td>426</td>\n",
       "      <td>H</td>\n",
       "      <td>2018.0</td>\n",
       "      <td>1.100152</td>\n",
       "      <td>0.840247</td>\n",
       "      <td>0.000199</td>\n",
       "      <td>buried</td>\n",
       "      <td>1</td>\n",
       "      <td>22-40760969-G-A</td>\n",
       "      <td>AR</td>\n",
       "      <td>metabolic</td>\n",
       "      <td>ADSL</td>\n",
       "      <td>ADSL_R426H</td>\n",
       "      <td>49</td>\n",
       "    </tr>\n",
       "    <tr>\n",
       "      <th>2</th>\n",
       "      <td>pathogenic</td>\n",
       "      <td>K</td>\n",
       "      <td>246</td>\n",
       "      <td>E</td>\n",
       "      <td>2017.0</td>\n",
       "      <td>8.890600</td>\n",
       "      <td>0.520974</td>\n",
       "      <td>0.000025</td>\n",
       "      <td>buried</td>\n",
       "      <td>1</td>\n",
       "      <td>22-40756440-A-G</td>\n",
       "      <td>AR</td>\n",
       "      <td>metabolic</td>\n",
       "      <td>ADSL</td>\n",
       "      <td>ADSL_K246E</td>\n",
       "      <td>7</td>\n",
       "    </tr>\n",
       "    <tr>\n",
       "      <th>3</th>\n",
       "      <td>benign</td>\n",
       "      <td>K</td>\n",
       "      <td>147</td>\n",
       "      <td>M</td>\n",
       "      <td>2019.0</td>\n",
       "      <td>-0.419810</td>\n",
       "      <td>0.287928</td>\n",
       "      <td>0.004325</td>\n",
       "      <td>buried</td>\n",
       "      <td>1</td>\n",
       "      <td>22-40750289-A-T</td>\n",
       "      <td>AR</td>\n",
       "      <td>metabolic</td>\n",
       "      <td>ADSL</td>\n",
       "      <td>ADSL_K147M</td>\n",
       "      <td>1199</td>\n",
       "    </tr>\n",
       "    <tr>\n",
       "      <th>4</th>\n",
       "      <td>pathogenic</td>\n",
       "      <td>A</td>\n",
       "      <td>2</td>\n",
       "      <td>V</td>\n",
       "      <td>2012.0</td>\n",
       "      <td>NaN</td>\n",
       "      <td>NaN</td>\n",
       "      <td>0.000115</td>\n",
       "      <td>NaN</td>\n",
       "      <td>1</td>\n",
       "      <td>22-40742567-C-T</td>\n",
       "      <td>AR</td>\n",
       "      <td>metabolic</td>\n",
       "      <td>ADSL</td>\n",
       "      <td>ADSL_A2V</td>\n",
       "      <td>29</td>\n",
       "    </tr>\n",
       "  </tbody>\n",
       "</table>\n",
       "</div>"
      ],
      "text/plain": [
       "  simplified.significance AA.wt  pos AA.mut    year  foldx.ddg  covar.2d  \\\n",
       "0              pathogenic     R  303      C  2018.0   1.156203  0.656840   \n",
       "1              pathogenic     R  426      H  2018.0   1.100152  0.840247   \n",
       "2              pathogenic     K  246      E  2017.0   8.890600  0.520974   \n",
       "3                  benign     K  147      M  2019.0  -0.419810  0.287928   \n",
       "4              pathogenic     A    2      V  2012.0        NaN       NaN   \n",
       "\n",
       "   Allele.Frequency cb.nbr.cat  Allele.Count    genomic.locus inheritance  \\\n",
       "0          0.000020     buried             1  22-40757536-C-T          AR   \n",
       "1          0.000199     buried             1  22-40760969-G-A          AR   \n",
       "2          0.000025     buried             1  22-40756440-A-G          AR   \n",
       "3          0.004325     buried             1  22-40750289-A-T          AR   \n",
       "4          0.000115        NaN             1  22-40742567-C-T          AR   \n",
       "\n",
       "  disease.cat protein     variant  AC.gnomAD  \n",
       "0   metabolic    ADSL  ADSL_R303C          5  \n",
       "1   metabolic    ADSL  ADSL_R426H         49  \n",
       "2   metabolic    ADSL  ADSL_K246E          7  \n",
       "3   metabolic    ADSL  ADSL_K147M       1199  \n",
       "4   metabolic    ADSL    ADSL_A2V         29  "
      ]
     },
     "execution_count": 298,
     "metadata": {},
     "output_type": "execute_result"
    }
   ],
   "source": [
    "data = pd.read_csv('./var.csv')\n",
    "data.head()"
   ]
  },
  {
   "cell_type": "code",
   "execution_count": 5,
   "metadata": {},
   "outputs": [
    {
     "data": {
      "text/html": [
       "<div>\n",
       "<style scoped>\n",
       "    .dataframe tbody tr th:only-of-type {\n",
       "        vertical-align: middle;\n",
       "    }\n",
       "\n",
       "    .dataframe tbody tr th {\n",
       "        vertical-align: top;\n",
       "    }\n",
       "\n",
       "    .dataframe thead th {\n",
       "        text-align: right;\n",
       "    }\n",
       "</style>\n",
       "<table border=\"1\" class=\"dataframe\">\n",
       "  <thead>\n",
       "    <tr style=\"text-align: right;\">\n",
       "      <th></th>\n",
       "      <th>simplified.significance</th>\n",
       "      <th>AA.wt</th>\n",
       "      <th>pos</th>\n",
       "      <th>AA.mut</th>\n",
       "      <th>year</th>\n",
       "      <th>foldx.ddg</th>\n",
       "      <th>covar.2d</th>\n",
       "      <th>Allele.Frequency</th>\n",
       "      <th>cb.nbr.cat</th>\n",
       "      <th>Allele.Count</th>\n",
       "      <th>genomic.locus</th>\n",
       "      <th>inheritance</th>\n",
       "      <th>disease.cat</th>\n",
       "      <th>protein</th>\n",
       "      <th>variant</th>\n",
       "      <th>AC.gnomAD</th>\n",
       "    </tr>\n",
       "  </thead>\n",
       "  <tbody>\n",
       "    <tr>\n",
       "      <th>8485</th>\n",
       "      <td>gnomAD</td>\n",
       "      <td>V</td>\n",
       "      <td>84</td>\n",
       "      <td>M</td>\n",
       "      <td>2017.0</td>\n",
       "      <td>1.928160</td>\n",
       "      <td>0.663212</td>\n",
       "      <td>0.000004</td>\n",
       "      <td>buried</td>\n",
       "      <td>1</td>\n",
       "      <td>3-10183781-G-A</td>\n",
       "      <td>AD</td>\n",
       "      <td>cancer</td>\n",
       "      <td>VHL</td>\n",
       "      <td>VHL_V84M</td>\n",
       "      <td>1</td>\n",
       "    </tr>\n",
       "    <tr>\n",
       "      <th>8486</th>\n",
       "      <td>1/10k</td>\n",
       "      <td>R</td>\n",
       "      <td>200</td>\n",
       "      <td>W</td>\n",
       "      <td>2017.0</td>\n",
       "      <td>-0.942926</td>\n",
       "      <td>0.960276</td>\n",
       "      <td>0.000209</td>\n",
       "      <td>exposed</td>\n",
       "      <td>58</td>\n",
       "      <td>3-10191605-C-T</td>\n",
       "      <td>AD</td>\n",
       "      <td>cancer</td>\n",
       "      <td>VHL</td>\n",
       "      <td>VHL_R200W</td>\n",
       "      <td>58</td>\n",
       "    </tr>\n",
       "    <tr>\n",
       "      <th>8487</th>\n",
       "      <td>1/10k</td>\n",
       "      <td>P</td>\n",
       "      <td>25</td>\n",
       "      <td>L</td>\n",
       "      <td>2017.0</td>\n",
       "      <td>NaN</td>\n",
       "      <td>0.040587</td>\n",
       "      <td>0.002996</td>\n",
       "      <td>NaN</td>\n",
       "      <td>507</td>\n",
       "      <td>3-10183605-C-T</td>\n",
       "      <td>AD</td>\n",
       "      <td>cancer</td>\n",
       "      <td>VHL</td>\n",
       "      <td>VHL_P25L</td>\n",
       "      <td>507</td>\n",
       "    </tr>\n",
       "    <tr>\n",
       "      <th>8488</th>\n",
       "      <td>1/10k</td>\n",
       "      <td>P</td>\n",
       "      <td>40</td>\n",
       "      <td>L</td>\n",
       "      <td>2017.0</td>\n",
       "      <td>NaN</td>\n",
       "      <td>0.260363</td>\n",
       "      <td>0.000248</td>\n",
       "      <td>NaN</td>\n",
       "      <td>45</td>\n",
       "      <td>3-10183650-C-T</td>\n",
       "      <td>AD</td>\n",
       "      <td>cancer</td>\n",
       "      <td>VHL</td>\n",
       "      <td>VHL_P40L</td>\n",
       "      <td>45</td>\n",
       "    </tr>\n",
       "    <tr>\n",
       "      <th>8489</th>\n",
       "      <td>1/10k</td>\n",
       "      <td>P</td>\n",
       "      <td>81</td>\n",
       "      <td>S</td>\n",
       "      <td>2017.0</td>\n",
       "      <td>1.846070</td>\n",
       "      <td>0.677461</td>\n",
       "      <td>0.000220</td>\n",
       "      <td>exposed</td>\n",
       "      <td>57</td>\n",
       "      <td>3-10183772-C-T</td>\n",
       "      <td>AD</td>\n",
       "      <td>cancer</td>\n",
       "      <td>VHL</td>\n",
       "      <td>VHL_P81S</td>\n",
       "      <td>57</td>\n",
       "    </tr>\n",
       "  </tbody>\n",
       "</table>\n",
       "</div>"
      ],
      "text/plain": [
       "     simplified.significance AA.wt  pos AA.mut    year  foldx.ddg  covar.2d  \\\n",
       "8485                  gnomAD     V   84      M  2017.0   1.928160  0.663212   \n",
       "8486                   1/10k     R  200      W  2017.0  -0.942926  0.960276   \n",
       "8487                   1/10k     P   25      L  2017.0        NaN  0.040587   \n",
       "8488                   1/10k     P   40      L  2017.0        NaN  0.260363   \n",
       "8489                   1/10k     P   81      S  2017.0   1.846070  0.677461   \n",
       "\n",
       "      Allele.Frequency cb.nbr.cat  Allele.Count   genomic.locus inheritance  \\\n",
       "8485          0.000004     buried             1  3-10183781-G-A          AD   \n",
       "8486          0.000209    exposed            58  3-10191605-C-T          AD   \n",
       "8487          0.002996        NaN           507  3-10183605-C-T          AD   \n",
       "8488          0.000248        NaN            45  3-10183650-C-T          AD   \n",
       "8489          0.000220    exposed            57  3-10183772-C-T          AD   \n",
       "\n",
       "     disease.cat protein    variant  AC.gnomAD  \n",
       "8485      cancer     VHL   VHL_V84M          1  \n",
       "8486      cancer     VHL  VHL_R200W         58  \n",
       "8487      cancer     VHL   VHL_P25L        507  \n",
       "8488      cancer     VHL   VHL_P40L         45  \n",
       "8489      cancer     VHL   VHL_P81S         57  "
      ]
     },
     "execution_count": 5,
     "metadata": {},
     "output_type": "execute_result"
    }
   ],
   "source": [
    "data.tail()"
   ]
  },
  {
   "cell_type": "markdown",
   "metadata": {},
   "source": [
    "### Creating Data Report"
   ]
  },
  {
   "cell_type": "code",
   "execution_count": 6,
   "metadata": {},
   "outputs": [],
   "source": [
    "#profile = ProfileReport(data, \\\n",
    "#                        title=\"Data Profile\")\n",
    "#profile.to_file(\"./data_report.html\")"
   ]
  },
  {
   "cell_type": "markdown",
   "metadata": {},
   "source": [
    "### Finding and counting missing values"
   ]
  },
  {
   "cell_type": "code",
   "execution_count": 7,
   "metadata": {},
   "outputs": [
    {
     "data": {
      "text/plain": [
       "simplified.significance       0\n",
       "AA.wt                         0\n",
       "pos                           0\n",
       "AA.mut                        0\n",
       "year                          4\n",
       "foldx.ddg                  3402\n",
       "covar.2d                   2346\n",
       "Allele.Frequency              0\n",
       "cb.nbr.cat                 3251\n",
       "Allele.Count                  0\n",
       "genomic.locus               920\n",
       "inheritance                   0\n",
       "disease.cat                   0\n",
       "protein                       0\n",
       "variant                       0\n",
       "AC.gnomAD                     0\n",
       "dtype: int64"
      ]
     },
     "execution_count": 7,
     "metadata": {},
     "output_type": "execute_result"
    }
   ],
   "source": [
    "data.isna().sum()"
   ]
  },
  {
   "cell_type": "markdown",
   "metadata": {},
   "source": [
    "### Plotting two important columns in data"
   ]
  },
  {
   "cell_type": "code",
   "execution_count": 8,
   "metadata": {},
   "outputs": [
    {
     "name": "stderr",
     "output_type": "stream",
     "text": [
      "/home/dispel/anaconda3/lib/python3.7/site-packages/numpy/lib/histograms.py:829: RuntimeWarning: invalid value encountered in greater_equal\n",
      "  keep = (tmp_a >= first_edge)\n",
      "/home/dispel/anaconda3/lib/python3.7/site-packages/numpy/lib/histograms.py:830: RuntimeWarning: invalid value encountered in less_equal\n",
      "  keep &= (tmp_a <= last_edge)\n"
     ]
    },
    {
     "data": {
      "image/png": "[encoded data removed]",
      "text/plain": [
       "<Figure size 864x720 with 4 Axes>"
      ]
     },
     "metadata": {
      "needs_background": "light"
     },
     "output_type": "display_data"
    }
   ],
   "source": [
    "fig, ax = plt.subplots(2, 2, sharex='col', sharey='row', figsize=(12,10))\n",
    "#ax = ax.ravel() \n",
    "mask = data['simplified.significance'] == 'benign'\n",
    "ax[0,0].hist(data[mask]['foldx.ddg'].values)\n",
    "ax[0,0].set_ylabel('benign')\n",
    "ax[0,0].set_title('foldx.ddg')\n",
    "ax[0,1].hist(data[mask]['covar.2d'].values)\n",
    "ax[0,1].set_title('covar.2d')\n",
    "mask = data['simplified.significance'] == 'pathogenic'\n",
    "ax[1,0].hist(data[mask]['foldx.ddg'].values)\n",
    "#ax[1,0].set_title('Histogram: foldx.ddg (pathogenic)')\n",
    "ax[1,0].set_ylabel('pathogenic')\n",
    "ax[1,1].hist(data[mask]['covar.2d'].values)\n",
    "ax[0,1].set_title('covar.2d')\n",
    "plt.setp([a.get_xticklabels() for a in ax[0, :]], visible=False)\n",
    "plt.setp([a.get_yticklabels() for a in ax[:, 1]], visible=False)\n",
    "fig.tight_layout()\n",
    "fig.subplots_adjust(top=0.88)\n",
    "#plt.tight_layout()\n",
    "#plt.savefig('./histograms.png')"
   ]
  },
  {
   "cell_type": "markdown",
   "metadata": {},
   "source": [
    "### Extracting features from amino acids using NLF Encode"
   ]
  },
  {
   "cell_type": "code",
   "execution_count": 9,
   "metadata": {},
   "outputs": [],
   "source": [
    "nlf = pd.read_csv('https://raw.githubusercontent.com/dmnfarrell/epitopepredict/master/epitopepredict/mhcdata/NLF.csv',index_col=0)\n",
    "\n",
    "def nlf_encode(seq):    \n",
    "    '''\n",
    "    '''\n",
    "    \n",
    "    x = pd.DataFrame([nlf[i] for i in seq]).reset_index(drop=True)  \n",
    "    #show_matrix(x)\n",
    "    e = x.values.flatten()\n",
    "    return e"
   ]
  },
  {
   "cell_type": "code",
   "execution_count": 10,
   "metadata": {},
   "outputs": [],
   "source": [
    "nlf_wt = []\n",
    "for aa in data['AA.wt'].values:\n",
    "    nlf_wt.append(nlf_encode(aa))\n",
    "nlf_wt = np.array(nlf_wt)"
   ]
  },
  {
   "cell_type": "code",
   "execution_count": 11,
   "metadata": {},
   "outputs": [],
   "source": [
    "nlf_mut = []\n",
    "for aa in data['AA.mut'].values:\n",
    "    nlf_mut.append(nlf_encode(aa))\n",
    "nlf_mut = np.array(nlf_mut)"
   ]
  },
  {
   "cell_type": "code",
   "execution_count": 12,
   "metadata": {},
   "outputs": [],
   "source": [
    "std = StandardScaler()\n",
    "nlf_wt = std.fit_transform(nlf_wt)\n",
    "nlf_mut = std.fit_transform(nlf_mut)"
   ]
  },
  {
   "cell_type": "markdown",
   "metadata": {},
   "source": [
    "### One hot encoding and scaling foldx.ddg and covar.2d features"
   ]
  },
  {
   "cell_type": "code",
   "execution_count": 13,
   "metadata": {},
   "outputs": [],
   "source": [
    "def to_hot(df, col):\n",
    "    '''\n",
    "    '''\n",
    "    na_mask = df[col].notna()\n",
    "    temp = np.zeros((len(df), 2))\n",
    "    mu = df[col].mean()\n",
    "    sd = df[col].std()\n",
    "    df[col][na_mask] = (df[col][na_mask] - mu)/sd\n",
    "    temp[np.where(na_mask == True),0] = 1\n",
    "    temp[np.where(na_mask == True),1] = df[na_mask][col]\n",
    "    \n",
    "    return temp"
   ]
  },
  {
   "cell_type": "code",
   "execution_count": 14,
   "metadata": {},
   "outputs": [
    {
     "name": "stderr",
     "output_type": "stream",
     "text": [
      "/home/dispel/anaconda3/lib/python3.7/site-packages/ipykernel_launcher.py:8: SettingWithCopyWarning: \n",
      "A value is trying to be set on a copy of a slice from a DataFrame\n",
      "\n",
      "See the caveats in the documentation: https://pandas.pydata.org/pandas-docs/stable/user_guide/indexing.html#returning-a-view-versus-a-copy\n",
      "  \n"
     ]
    }
   ],
   "source": [
    "onehot_foldx = to_hot(data, 'foldx.ddg')\n",
    "onehot_covar = to_hot(data, 'covar.2d')"
   ]
  },
  {
   "cell_type": "markdown",
   "metadata": {},
   "source": [
    "### Scaling Allele Frequency feature"
   ]
  },
  {
   "cell_type": "code",
   "execution_count": 15,
   "metadata": {},
   "outputs": [],
   "source": [
    "data_allele = data['Allele.Frequency']\n",
    "mu = data_allele.mean()\n",
    "sd = data_allele.std()\n",
    "data_allele = (data_allele - mu)/sd "
   ]
  },
  {
   "cell_type": "code",
   "execution_count": 16,
   "metadata": {},
   "outputs": [],
   "source": [
    "def to_onehot(data, col):\n",
    "    '''\n",
    "    '''\n",
    "    from sklearn.preprocessing import OneHotEncoder\n",
    "    from sklearn.preprocessing import LabelEncoder\n",
    "    \n",
    "    ohe = OneHotEncoder()\n",
    "    le = LabelEncoder()\n",
    "    ohe_fit = ohe.fit_transform(data[col].values.reshape(-1,1)).toarray()\n",
    "    \n",
    "    return ohe_fit"
   ]
  },
  {
   "cell_type": "code",
   "execution_count": 17,
   "metadata": {},
   "outputs": [],
   "source": [
    "out_inh = to_onehot(data, 'inheritance')\n",
    "out_disease = to_onehot(data, 'disease.cat')\n",
    "cus = np.hstack((out_inh, out_disease))"
   ]
  },
  {
   "cell_type": "code",
   "execution_count": null,
   "metadata": {},
   "outputs": [],
   "source": []
  },
  {
   "cell_type": "markdown",
   "metadata": {},
   "source": [
    "### Combining all features into a new matrix"
   ]
  },
  {
   "cell_type": "code",
   "execution_count": 200,
   "metadata": {},
   "outputs": [],
   "source": [
    "features = np.c_[nlf_wt, nlf_mut, onehot_foldx, onehot_covar, cus, data_allele.values]"
   ]
  },
  {
   "cell_type": "markdown",
   "metadata": {},
   "source": [
    "### Preparing data for machine learning"
   ]
  },
  {
   "cell_type": "code",
   "execution_count": 203,
   "metadata": {},
   "outputs": [],
   "source": [
    "le = LabelEncoder()\n",
    "\n",
    "mask1 = data['simplified.significance'] == 'pathogenic'\n",
    "mask2 = data['simplified.significance'] == 'benign'\n",
    "labels = data['simplified.significance'][(mask1 == True) | (mask2 == True)]\n",
    "\n",
    "y_le = le.fit_transform(labels)"
   ]
  },
  {
   "cell_type": "code",
   "execution_count": 204,
   "metadata": {},
   "outputs": [],
   "source": [
    "new_data = features[np.where((mask1 == True) | (mask2 == True))]"
   ]
  },
  {
   "cell_type": "code",
   "execution_count": 205,
   "metadata": {},
   "outputs": [],
   "source": [
    "X_train, X_test, y_train, y_test = train_test_split(new_data, y_le, \\\n",
    "                                                   test_size=0.2, random_state=1)"
   ]
  },
  {
   "cell_type": "markdown",
   "metadata": {},
   "source": [
    "### GP Optimization to find best parameters"
   ]
  },
  {
   "cell_type": "code",
   "execution_count": 208,
   "metadata": {},
   "outputs": [],
   "source": [
    "from skopt.space import Real, Integer, Categorical\n",
    "from skopt.utils import use_named_args\n",
    "from sklearn.model_selection import cross_val_score\n",
    "from skopt import gp_minimize\n",
    "from sklearn.svm import SVC\n",
    "'''\n",
    "space  = [Real(10**-3, 10**3, \"uniform\", name='C'),\\\n",
    "          Real(10**-3, 10**3, \"uniform\", name='gamma'),\\\n",
    "          Categorical(['poly', 'rbf', 'linear', 'sigmoid'], name=\"kernel\")]\n",
    "'''\n",
    "space  = [Real(10**-3, 10**3, \"uniform\", name='C'),\\\n",
    "          Real(10**-3, 10**3, \"uniform\", name='gamma'),\\\n",
    "          Categorical(['rbf', 'linear', 'sigmoid', 'poly'], name='kernel')]\n",
    "\n",
    "clf = SVC()\n",
    "\n",
    "@use_named_args(space)\n",
    "def objective(**params):\n",
    "    clf.set_params(**params)\n",
    "\n",
    "    return -np.mean(cross_val_score(clf, X_train, y_train, cv=5, n_jobs=-1,\n",
    "                                    scoring=\"neg_mean_absolute_error\"))"
   ]
  },
  {
   "cell_type": "code",
   "execution_count": 209,
   "metadata": {},
   "outputs": [],
   "source": [
    "res = gp_minimize(objective, space, n_calls=20, acq_func='EI',\\\n",
    "                  n_random_starts=2, random_state=1)"
   ]
  },
  {
   "cell_type": "code",
   "execution_count": 210,
   "metadata": {},
   "outputs": [
    {
     "data": {
      "text/plain": [
       "[637.6695888379611, 88.30977983023897, 'linear']"
      ]
     },
     "execution_count": 210,
     "metadata": {},
     "output_type": "execute_result"
    }
   ],
   "source": [
    "res.x"
   ]
  },
  {
   "cell_type": "code",
   "execution_count": 211,
   "metadata": {},
   "outputs": [
    {
     "data": {
      "text/plain": [
       "(0.9442446043165468, 0.920863309352518)"
      ]
     },
     "execution_count": 211,
     "metadata": {},
     "output_type": "execute_result"
    }
   ],
   "source": [
    "clf = SVC(C=res.x[0], gamma=res.x[1], kernel=res.x[2])\n",
    "clf.fit(X_train, y_train)\n",
    "clf.score(X_train, y_train), clf.score(X_test, y_test)"
   ]
  },
  {
   "cell_type": "code",
   "execution_count": 213,
   "metadata": {},
   "outputs": [
    {
     "data": {
      "image/png": "[encoded data removed]",
      "text/plain": [
       "<Figure size 864x576 with 1 Axes>"
      ]
     },
     "metadata": {
      "needs_background": "light"
     },
     "output_type": "display_data"
    }
   ],
   "source": [
    "from sklearn.model_selection import StratifiedKFold\n",
    "from sklearn.metrics import auc\n",
    "from sklearn.metrics import plot_roc_curve\n",
    "\n",
    "cv = StratifiedKFold(n_splits=6)\n",
    "classifier = SVC(C=res.x[0], gamma=res.x[1], \\\n",
    "                     kernel=res.x[2],\\\n",
    "                 random_state=1)\n",
    "tprs = []\n",
    "aucs = []\n",
    "mean_fpr = np.linspace(0, 1, 100)\n",
    "fig, ax = plt.subplots(figsize=(12,8))\n",
    "for i, (train, test) in enumerate(cv.split(new_data, y_le)):\n",
    "    classifier.fit(new_data[train], y_le[train])\n",
    "    viz = plot_roc_curve(classifier, new_data[test], y_le[test],\n",
    "                         name='ROC fold {}'.format(i),\n",
    "                         alpha=0.3, lw=1, ax=ax)\n",
    "    interp_tpr = np.interp(mean_fpr, viz.fpr, viz.tpr)\n",
    "    interp_tpr[0] = 0.0\n",
    "    tprs.append(interp_tpr)\n",
    "    aucs.append(viz.roc_auc)\n",
    "    \n",
    "ax.plot([0, 1], [0, 1], linestyle='--', lw=2, color='r',\n",
    "        label='Chance', alpha=.8)\n",
    "\n",
    "mean_tpr = np.mean(tprs, axis=0)\n",
    "mean_tpr[-1] = 1.0\n",
    "mean_auc = auc(mean_fpr, mean_tpr)\n",
    "std_auc = np.std(aucs)\n",
    "ax.plot(mean_fpr, mean_tpr, color='b',\\\n",
    "        label=r'Mean ROC (AUC = %0.2f $\\pm$ %0.2f)' % (mean_auc, std_auc),\\\n",
    "        lw=2, alpha=.8)\n",
    "std_tpr = np.std(tprs, axis=0)\n",
    "tprs_upper = np.minimum(mean_tpr + std_tpr, 1)\n",
    "tprs_lower = np.maximum(mean_tpr - std_tpr, 0)\n",
    "ax.fill_between(mean_fpr, tprs_lower, tprs_upper, color='grey', alpha=.2,\\\n",
    "                label=r'$\\pm$ 1 std. dev.')\n",
    "\n",
    "ax.set(xlim=[-0.05, 1.05], ylim=[-0.05, 1.05],\\\n",
    "       title=\"Receiver operating characteristic SVC\")\n",
    "ax.legend(loc=\"lower right\")\n",
    "plt.savefig('./roc_auc_svc.png')\n",
    "plt.show()"
   ]
  },
  {
   "cell_type": "code",
   "execution_count": 24,
   "metadata": {},
   "outputs": [],
   "source": [
    "from skopt.space import Real, Integer, Categorical\n",
    "from skopt.utils import use_named_args\n",
    "from sklearn.model_selection import cross_val_score\n",
    "from skopt import gp_minimize\n",
    "from sklearn.linear_model import LogisticRegression\n",
    "'''\n",
    "space  = [Real(10**-3, 10**3, \"uniform\", name='C'),\\\n",
    "          Real(10**-3, 10**3, \"uniform\", name='gamma'),\\\n",
    "          Categorical(['poly', 'rbf', 'linear', 'sigmoid'], name=\"kernel\")]\n",
    "'''\n",
    "space  = [Real(10**-3, 10**3, \"uniform\", name='C'),\\\n",
    "          Categorical(['l1', 'l2'], name='penalty'),\\\n",
    "         Categorical([ 'liblinear', 'saga'], name='solver')]\n",
    "\n",
    "lr = LogisticRegression()\n",
    "\n",
    "@use_named_args(space)\n",
    "def objective(**params):\n",
    "    lr.set_params(**params)\n",
    "\n",
    "    return -np.mean(cross_val_score(lr, X_train, y_train, cv=5, n_jobs=-1,\n",
    "                                    scoring=\"neg_mean_absolute_error\"))"
   ]
  },
  {
   "cell_type": "code",
   "execution_count": 25,
   "metadata": {},
   "outputs": [],
   "source": [
    "res_lr = gp_minimize(objective, space, n_calls=20, acq_func='EI',\\\n",
    "                  n_random_starts=2, random_state=1)"
   ]
  },
  {
   "cell_type": "code",
   "execution_count": 26,
   "metadata": {},
   "outputs": [
    {
     "data": {
      "text/plain": [
       "[997.1848137540578, 'l2', 'liblinear']"
      ]
     },
     "execution_count": 26,
     "metadata": {},
     "output_type": "execute_result"
    }
   ],
   "source": [
    "res_lr.x"
   ]
  },
  {
   "cell_type": "code",
   "execution_count": 27,
   "metadata": {},
   "outputs": [
    {
     "data": {
      "text/plain": [
       "LogisticRegression(C=997.1848137540578, class_weight=None, dual=False,\n",
       "                   fit_intercept=True, intercept_scaling=1, l1_ratio=None,\n",
       "                   max_iter=100, multi_class='auto', n_jobs=None, penalty='l2',\n",
       "                   random_state=None, solver='liblinear', tol=0.0001, verbose=0,\n",
       "                   warm_start=False)"
      ]
     },
     "execution_count": 27,
     "metadata": {},
     "output_type": "execute_result"
    }
   ],
   "source": [
    "lr = LogisticRegression(C=res_lr.x[0], penalty=res_lr.x[1],\n",
    "                       solver=res_lr.x[2])\n",
    "lr.fit(X_train, y_train)"
   ]
  },
  {
   "cell_type": "code",
   "execution_count": 28,
   "metadata": {},
   "outputs": [
    {
     "data": {
      "text/plain": [
       "(0.9424460431654677, 0.920863309352518)"
      ]
     },
     "execution_count": 28,
     "metadata": {},
     "output_type": "execute_result"
    }
   ],
   "source": [
    "lr.score(X_train, y_train), lr.score(X_test, y_test)"
   ]
  },
  {
   "cell_type": "code",
   "execution_count": 30,
   "metadata": {},
   "outputs": [
    {
     "data": {
      "image/png": "[encoded data removed]",
      "text/plain": [
       "<Figure size 864x576 with 1 Axes>"
      ]
     },
     "metadata": {
      "needs_background": "light"
     },
     "output_type": "display_data"
    }
   ],
   "source": [
    "from sklearn.model_selection import StratifiedKFold\n",
    "from sklearn.metrics import auc\n",
    "from sklearn.metrics import plot_roc_curve\n",
    "\n",
    "cv = StratifiedKFold(n_splits=6)\n",
    "classifier = LogisticRegression(C=res_lr.x[0], penalty=res_lr.x[1], \\\n",
    "                     solver=res_lr.x[2],\\\n",
    "                 random_state=1)\n",
    "tprs = []\n",
    "aucs = []\n",
    "mean_fpr = np.linspace(0, 1, 100)\n",
    "fig, ax = plt.subplots(figsize=(12,8))\n",
    "for i, (train, test) in enumerate(cv.split(new_data, y_le)):\n",
    "    classifier.fit(new_data[train], y_le[train])\n",
    "    viz = plot_roc_curve(classifier, new_data[test], y_le[test],\n",
    "                         name='ROC fold {}'.format(i),\n",
    "                         alpha=0.3, lw=1, ax=ax)\n",
    "    interp_tpr = np.interp(mean_fpr, viz.fpr, viz.tpr)\n",
    "    interp_tpr[0] = 0.0\n",
    "    tprs.append(interp_tpr)\n",
    "    aucs.append(viz.roc_auc)\n",
    "    \n",
    "ax.plot([0, 1], [0, 1], linestyle='--', lw=2, color='r',\n",
    "        label='Chance', alpha=.8)\n",
    "\n",
    "mean_tpr = np.mean(tprs, axis=0)\n",
    "mean_tpr[-1] = 1.0\n",
    "mean_auc = auc(mean_fpr, mean_tpr)\n",
    "std_auc = np.std(aucs)\n",
    "ax.plot(mean_fpr, mean_tpr, color='b',\\\n",
    "        label=r'Mean ROC (AUC = %0.2f $\\pm$ %0.2f)' % (mean_auc, std_auc),\\\n",
    "        lw=2, alpha=.8)\n",
    "std_tpr = np.std(tprs, axis=0)\n",
    "tprs_upper = np.minimum(mean_tpr + std_tpr, 1)\n",
    "tprs_lower = np.maximum(mean_tpr - std_tpr, 0)\n",
    "ax.fill_between(mean_fpr, tprs_lower, tprs_upper, color='grey', alpha=.2,\\\n",
    "                label=r'$\\pm$ 1 std. dev.')\n",
    "\n",
    "ax.set(xlim=[-0.05, 1.05], ylim=[-0.05, 1.05],\\\n",
    "       title=\"Receiver operating characteristic Logistic Regression\")\n",
    "ax.legend(loc=\"lower right\")\n",
    "plt.savefig('./roc_auc_lr.png')\n",
    "plt.show()"
   ]
  },
  {
   "cell_type": "markdown",
   "metadata": {},
   "source": [
    "### Base"
   ]
  },
  {
   "cell_type": "code",
   "execution_count": 33,
   "metadata": {},
   "outputs": [
    {
     "data": {
      "text/html": [
       "<div>\n",
       "<style scoped>\n",
       "    .dataframe tbody tr th:only-of-type {\n",
       "        vertical-align: middle;\n",
       "    }\n",
       "\n",
       "    .dataframe tbody tr th {\n",
       "        vertical-align: top;\n",
       "    }\n",
       "\n",
       "    .dataframe thead th {\n",
       "        text-align: right;\n",
       "    }\n",
       "</style>\n",
       "<table border=\"1\" class=\"dataframe\">\n",
       "  <thead>\n",
       "    <tr style=\"text-align: right;\">\n",
       "      <th></th>\n",
       "      <th>simplified.significance</th>\n",
       "      <th>AA.wt</th>\n",
       "      <th>pos</th>\n",
       "      <th>AA.mut</th>\n",
       "      <th>year</th>\n",
       "      <th>foldx.ddg</th>\n",
       "      <th>covar.2d</th>\n",
       "      <th>Allele.Frequency</th>\n",
       "      <th>cb.nbr.cat</th>\n",
       "      <th>Allele.Count</th>\n",
       "      <th>genomic.locus</th>\n",
       "      <th>inheritance</th>\n",
       "      <th>disease.cat</th>\n",
       "      <th>protein</th>\n",
       "      <th>variant</th>\n",
       "      <th>AC.gnomAD</th>\n",
       "    </tr>\n",
       "  </thead>\n",
       "  <tbody>\n",
       "    <tr>\n",
       "      <th>0</th>\n",
       "      <td>pathogenic</td>\n",
       "      <td>R</td>\n",
       "      <td>303</td>\n",
       "      <td>C</td>\n",
       "      <td>2018.0</td>\n",
       "      <td>1.156203</td>\n",
       "      <td>0.656840</td>\n",
       "      <td>0.000020</td>\n",
       "      <td>buried</td>\n",
       "      <td>1</td>\n",
       "      <td>22-40757536-C-T</td>\n",
       "      <td>AR</td>\n",
       "      <td>metabolic</td>\n",
       "      <td>ADSL</td>\n",
       "      <td>ADSL_R303C</td>\n",
       "      <td>5</td>\n",
       "    </tr>\n",
       "    <tr>\n",
       "      <th>1</th>\n",
       "      <td>pathogenic</td>\n",
       "      <td>R</td>\n",
       "      <td>426</td>\n",
       "      <td>H</td>\n",
       "      <td>2018.0</td>\n",
       "      <td>1.100152</td>\n",
       "      <td>0.840247</td>\n",
       "      <td>0.000199</td>\n",
       "      <td>buried</td>\n",
       "      <td>1</td>\n",
       "      <td>22-40760969-G-A</td>\n",
       "      <td>AR</td>\n",
       "      <td>metabolic</td>\n",
       "      <td>ADSL</td>\n",
       "      <td>ADSL_R426H</td>\n",
       "      <td>49</td>\n",
       "    </tr>\n",
       "    <tr>\n",
       "      <th>2</th>\n",
       "      <td>pathogenic</td>\n",
       "      <td>K</td>\n",
       "      <td>246</td>\n",
       "      <td>E</td>\n",
       "      <td>2017.0</td>\n",
       "      <td>8.890600</td>\n",
       "      <td>0.520974</td>\n",
       "      <td>0.000025</td>\n",
       "      <td>buried</td>\n",
       "      <td>1</td>\n",
       "      <td>22-40756440-A-G</td>\n",
       "      <td>AR</td>\n",
       "      <td>metabolic</td>\n",
       "      <td>ADSL</td>\n",
       "      <td>ADSL_K246E</td>\n",
       "      <td>7</td>\n",
       "    </tr>\n",
       "    <tr>\n",
       "      <th>3</th>\n",
       "      <td>benign</td>\n",
       "      <td>K</td>\n",
       "      <td>147</td>\n",
       "      <td>M</td>\n",
       "      <td>2019.0</td>\n",
       "      <td>-0.419810</td>\n",
       "      <td>0.287928</td>\n",
       "      <td>0.004325</td>\n",
       "      <td>buried</td>\n",
       "      <td>1</td>\n",
       "      <td>22-40750289-A-T</td>\n",
       "      <td>AR</td>\n",
       "      <td>metabolic</td>\n",
       "      <td>ADSL</td>\n",
       "      <td>ADSL_K147M</td>\n",
       "      <td>1199</td>\n",
       "    </tr>\n",
       "    <tr>\n",
       "      <th>4</th>\n",
       "      <td>pathogenic</td>\n",
       "      <td>A</td>\n",
       "      <td>2</td>\n",
       "      <td>V</td>\n",
       "      <td>2012.0</td>\n",
       "      <td>NaN</td>\n",
       "      <td>NaN</td>\n",
       "      <td>0.000115</td>\n",
       "      <td>NaN</td>\n",
       "      <td>1</td>\n",
       "      <td>22-40742567-C-T</td>\n",
       "      <td>AR</td>\n",
       "      <td>metabolic</td>\n",
       "      <td>ADSL</td>\n",
       "      <td>ADSL_A2V</td>\n",
       "      <td>29</td>\n",
       "    </tr>\n",
       "  </tbody>\n",
       "</table>\n",
       "</div>"
      ],
      "text/plain": [
       "  simplified.significance AA.wt  pos AA.mut    year  foldx.ddg  covar.2d  \\\n",
       "0              pathogenic     R  303      C  2018.0   1.156203  0.656840   \n",
       "1              pathogenic     R  426      H  2018.0   1.100152  0.840247   \n",
       "2              pathogenic     K  246      E  2017.0   8.890600  0.520974   \n",
       "3                  benign     K  147      M  2019.0  -0.419810  0.287928   \n",
       "4              pathogenic     A    2      V  2012.0        NaN       NaN   \n",
       "\n",
       "   Allele.Frequency cb.nbr.cat  Allele.Count    genomic.locus inheritance  \\\n",
       "0          0.000020     buried             1  22-40757536-C-T          AR   \n",
       "1          0.000199     buried             1  22-40760969-G-A          AR   \n",
       "2          0.000025     buried             1  22-40756440-A-G          AR   \n",
       "3          0.004325     buried             1  22-40750289-A-T          AR   \n",
       "4          0.000115        NaN             1  22-40742567-C-T          AR   \n",
       "\n",
       "  disease.cat protein     variant  AC.gnomAD  \n",
       "0   metabolic    ADSL  ADSL_R303C          5  \n",
       "1   metabolic    ADSL  ADSL_R426H         49  \n",
       "2   metabolic    ADSL  ADSL_K246E          7  \n",
       "3   metabolic    ADSL  ADSL_K147M       1199  \n",
       "4   metabolic    ADSL    ADSL_A2V         29  "
      ]
     },
     "execution_count": 33,
     "metadata": {},
     "output_type": "execute_result"
    }
   ],
   "source": [
    "data.head()"
   ]
  },
  {
   "cell_type": "code",
   "execution_count": 299,
   "metadata": {},
   "outputs": [],
   "source": []
  },
  {
   "cell_type": "code",
   "execution_count": 313,
   "metadata": {},
   "outputs": [],
   "source": []
  },
  {
   "cell_type": "code",
   "execution_count": 316,
   "metadata": {},
   "outputs": [],
   "source": [
    "mask1 = data['foldx.ddg'].notna()\n",
    "mask2 = data['covar.2d'].notna()\n",
    "data = data[mask1 & mask2]\n",
    "X = data[['foldx.ddg', 'covar.2d']].values\n",
    "y = data['simplified.significance'].values"
   ]
  },
  {
   "cell_type": "code",
   "execution_count": null,
   "metadata": {},
   "outputs": [],
   "source": []
  },
  {
   "cell_type": "code",
   "execution_count": 318,
   "metadata": {},
   "outputs": [],
   "source": [
    "X = X[np.where((y == 'benign') | (y == 'pathogenic'))]\n",
    "y = y[np.where((y == 'benign') | (y == 'pathogenic'))]"
   ]
  },
  {
   "cell_type": "code",
   "execution_count": 324,
   "metadata": {},
   "outputs": [],
   "source": [
    "le = LabelEncoder()\n",
    "y_le_base = le.fit_transform(y)"
   ]
  },
  {
   "cell_type": "code",
   "execution_count": 325,
   "metadata": {},
   "outputs": [],
   "source": [
    "X_train, X_test, y_train, y_test = train_test_split(X, y_le_base, test_size=0.2,\\\n",
    "                                                   random_state=1)"
   ]
  },
  {
   "cell_type": "code",
   "execution_count": null,
   "metadata": {},
   "outputs": [],
   "source": []
  },
  {
   "cell_type": "code",
   "execution_count": 326,
   "metadata": {},
   "outputs": [
    {
     "data": {
      "text/plain": [
       "(0.8896882494004796, 0.861244019138756)"
      ]
     },
     "execution_count": 326,
     "metadata": {},
     "output_type": "execute_result"
    }
   ],
   "source": [
    "lr = LogisticRegression()\n",
    "lr.fit(X_train, y_train)\n",
    "lr.score(X_train, y_train), lr.score(X_test, y_test)"
   ]
  },
  {
   "cell_type": "code",
   "execution_count": 75,
   "metadata": {},
   "outputs": [],
   "source": [
    "from skopt.space import Real, Integer, Categorical\n",
    "from skopt.utils import use_named_args\n",
    "from sklearn.model_selection import cross_val_score\n",
    "from skopt import gp_minimize\n",
    "from sklearn.linear_model import LogisticRegression\n",
    "'''\n",
    "space  = [Real(10**-3, 10**3, \"uniform\", name='C'),\\\n",
    "          Real(10**-3, 10**3, \"uniform\", name='gamma'),\\\n",
    "          Categorical(['poly', 'rbf', 'linear', 'sigmoid'], name=\"kernel\")]\n",
    "'''\n",
    "space  = [Real(10**-3, 10**3, \"uniform\", name='C'),\\\n",
    "          Categorical(['l1', 'l2'], name='penalty'),\\\n",
    "         Categorical([ 'liblinear', 'saga'], name='solver')]\n",
    "\n",
    "lr = LogisticRegression()\n",
    "\n",
    "@use_named_args(space)\n",
    "def objective(**params):\n",
    "    lr.set_params(**params)\n",
    "\n",
    "    return -np.mean(cross_val_score(lr, X_train, y_train, cv=5, n_jobs=-1,\n",
    "                                    scoring=\"neg_mean_absolute_error\"))"
   ]
  },
  {
   "cell_type": "code",
   "execution_count": 76,
   "metadata": {},
   "outputs": [],
   "source": [
    "res_lr_base = gp_minimize(objective, space, n_calls=20, acq_func='EI',\\\n",
    "                  n_random_starts=2, random_state=1)"
   ]
  },
  {
   "cell_type": "code",
   "execution_count": 77,
   "metadata": {},
   "outputs": [
    {
     "data": {
      "text/plain": [
       "[0.5542007920459019, 'l2', 'saga']"
      ]
     },
     "execution_count": 77,
     "metadata": {},
     "output_type": "execute_result"
    }
   ],
   "source": [
    "res_lr_base.x"
   ]
  },
  {
   "cell_type": "code",
   "execution_count": 78,
   "metadata": {},
   "outputs": [
    {
     "data": {
      "text/plain": [
       "LogisticRegression(C=0.5542007920459019, class_weight=None, dual=False,\n",
       "                   fit_intercept=True, intercept_scaling=1, l1_ratio=None,\n",
       "                   max_iter=100, multi_class='auto', n_jobs=None, penalty='l2',\n",
       "                   random_state=None, solver='saga', tol=0.0001, verbose=0,\n",
       "                   warm_start=False)"
      ]
     },
     "execution_count": 78,
     "metadata": {},
     "output_type": "execute_result"
    }
   ],
   "source": [
    "lr = LogisticRegression(C=res_lr_base.x[0], penalty=res_lr_base.x[1],\n",
    "                       solver=res_lr_base.x[2])\n",
    "lr.fit(X_train, y_train)"
   ]
  },
  {
   "cell_type": "code",
   "execution_count": 79,
   "metadata": {},
   "outputs": [
    {
     "data": {
      "text/plain": [
       "(0.7735849056603774, 0.6666666666666666)"
      ]
     },
     "execution_count": 79,
     "metadata": {},
     "output_type": "execute_result"
    }
   ],
   "source": [
    "lr.score(X_train, y_train), lr.score(X_test, y_test)"
   ]
  },
  {
   "cell_type": "code",
   "execution_count": 328,
   "metadata": {},
   "outputs": [
    {
     "data": {
      "image/png": "[encoded data removed]",
      "text/plain": [
       "<Figure size 864x576 with 1 Axes>"
      ]
     },
     "metadata": {
      "needs_background": "light"
     },
     "output_type": "display_data"
    }
   ],
   "source": [
    "from sklearn.model_selection import StratifiedKFold\n",
    "from sklearn.metrics import auc\n",
    "from sklearn.metrics import plot_roc_curve\n",
    "\n",
    "cv = StratifiedKFold(n_splits=6)\n",
    "classifier = LogisticRegression(random_state=1)\n",
    "tprs = []\n",
    "aucs = []\n",
    "mean_fpr = np.linspace(0, 1, 100)\n",
    "fig, ax = plt.subplots(figsize=(12,8))\n",
    "for i, (train, test) in enumerate(cv.split(X, y_le_base)):\n",
    "    classifier.fit(X[train], y_le_base[train])\n",
    "    viz = plot_roc_curve(classifier, X[test], y_le_base[test],\n",
    "                         name='ROC fold {}'.format(i),\n",
    "                         alpha=0.3, lw=1, ax=ax)\n",
    "    interp_tpr = np.interp(mean_fpr, viz.fpr, viz.tpr)\n",
    "    interp_tpr[0] = 0.0\n",
    "    tprs.append(interp_tpr)\n",
    "    aucs.append(viz.roc_auc)\n",
    "    \n",
    "ax.plot([0, 1], [0, 1], linestyle='--', lw=2, color='r',\n",
    "        label='Chance', alpha=.8)\n",
    "\n",
    "mean_tpr = np.mean(tprs, axis=0)\n",
    "mean_tpr[-1] = 1.0\n",
    "mean_auc = auc(mean_fpr, mean_tpr)\n",
    "std_auc = np.std(aucs)\n",
    "ax.plot(mean_fpr, mean_tpr, color='b',\\\n",
    "        label=r'Mean ROC (AUC = %0.2f $\\pm$ %0.2f)' % (mean_auc, std_auc),\\\n",
    "        lw=2, alpha=.8)\n",
    "std_tpr = np.std(tprs, axis=0)\n",
    "tprs_upper = np.minimum(mean_tpr + std_tpr, 1)\n",
    "tprs_lower = np.maximum(mean_tpr - std_tpr, 0)\n",
    "ax.fill_between(mean_fpr, tprs_lower, tprs_upper, color='grey', alpha=.2,\\\n",
    "                label=r'$\\pm$ 1 std. dev.')\n",
    "\n",
    "ax.set(xlim=[-0.05, 1.05], ylim=[-0.05, 1.05],\\\n",
    "       title=\"Receiver operating characteristic Logistic Regression Base\")\n",
    "ax.legend(loc=\"lower right\")\n",
    "plt.savefig('./roc_auc_lr_base.png')\n",
    "plt.show()"
   ]
  },
  {
   "cell_type": "code",
   "execution_count": null,
   "metadata": {},
   "outputs": [],
   "source": []
  },
  {
   "cell_type": "code",
   "execution_count": 329,
   "metadata": {},
   "outputs": [
    {
     "data": {
      "text/plain": [
       "(0.8788968824940048, 0.84688995215311)"
      ]
     },
     "execution_count": 329,
     "metadata": {},
     "output_type": "execute_result"
    }
   ],
   "source": [
    "svc = SVC()\n",
    "svc.fit(X_train, y_train)\n",
    "svc.score(X_train, y_train), svc.score(X_test, y_test)"
   ]
  },
  {
   "cell_type": "code",
   "execution_count": 330,
   "metadata": {},
   "outputs": [],
   "source": [
    "from skopt.space import Real, Integer, Categorical\n",
    "from skopt.utils import use_named_args\n",
    "from sklearn.model_selection import cross_val_score\n",
    "from skopt import gp_minimize\n",
    "from sklearn.svm import SVC\n",
    "'''\n",
    "space  = [Real(10**-3, 10**3, \"uniform\", name='C'),\\\n",
    "          Real(10**-3, 10**3, \"uniform\", name='gamma'),\\\n",
    "          Categorical(['poly', 'rbf', 'linear', 'sigmoid'], name=\"kernel\")]\n",
    "'''\n",
    "space  = [Real(10**-3, 10**3, \"uniform\", name='C'),\\\n",
    "          Real(10**-3, 10**3, \"uniform\", name='gamma'),\\\n",
    "          Categorical(['rbf', 'linear', 'sigmoid', 'poly'], name='kernel')]\n",
    "\n",
    "clf = SVC()\n",
    "\n",
    "@use_named_args(space)\n",
    "def objective(**params):\n",
    "    clf.set_params(**params)\n",
    "\n",
    "    return -np.mean(cross_val_score(clf, X_train, y_train, cv=5, n_jobs=-1,\n",
    "                                    scoring=\"neg_mean_absolute_error\"))"
   ]
  },
  {
   "cell_type": "code",
   "execution_count": 331,
   "metadata": {},
   "outputs": [
    {
     "name": "stdout",
     "output_type": "stream",
     "text": [
      "Iteration No: 1 started. Evaluating function at random point.\n",
      "Iteration No: 1 ended. Evaluation done at random point.\n",
      "Time taken: 0.9683\n",
      "Function value obtained: 0.1271\n",
      "Current minimum: 0.1271\n",
      "Iteration No: 2 started. Evaluating function at random point.\n",
      "Iteration No: 2 ended. Evaluation done at random point.\n",
      "Time taken: 44.8015\n",
      "Function value obtained: 0.1211\n",
      "Current minimum: 0.1211\n",
      "Iteration No: 3 started. Searching for the next optimal point.\n",
      "Iteration No: 3 ended. Search finished for the next optimal point.\n",
      "Time taken: 0.5814\n",
      "Function value obtained: 0.1786\n",
      "Current minimum: 0.1211\n",
      "Iteration No: 4 started. Searching for the next optimal point.\n",
      "Iteration No: 4 ended. Search finished for the next optimal point.\n",
      "Time taken: 47.8557\n",
      "Function value obtained: 0.1211\n",
      "Current minimum: 0.1211\n",
      "Iteration No: 5 started. Searching for the next optimal point.\n"
     ]
    },
    {
     "name": "stderr",
     "output_type": "stream",
     "text": [
      "/home/dispel/anaconda3/lib/python3.7/site-packages/skopt/optimizer/optimizer.py:409: UserWarning: The objective has been evaluated at this point before.\n",
      "  warnings.warn(\"The objective has been evaluated \"\n"
     ]
    },
    {
     "name": "stdout",
     "output_type": "stream",
     "text": [
      "Iteration No: 5 ended. Search finished for the next optimal point.\n",
      "Time taken: 47.3533\n",
      "Function value obtained: 0.1211\n",
      "Current minimum: 0.1211\n",
      "Iteration No: 6 started. Searching for the next optimal point.\n"
     ]
    },
    {
     "name": "stderr",
     "output_type": "stream",
     "text": [
      "/home/dispel/anaconda3/lib/python3.7/site-packages/skopt/optimizer/optimizer.py:409: UserWarning: The objective has been evaluated at this point before.\n",
      "  warnings.warn(\"The objective has been evaluated \"\n"
     ]
    },
    {
     "name": "stdout",
     "output_type": "stream",
     "text": [
      "Iteration No: 6 ended. Search finished for the next optimal point.\n",
      "Time taken: 46.1439\n",
      "Function value obtained: 0.1211\n",
      "Current minimum: 0.1211\n",
      "Iteration No: 7 started. Searching for the next optimal point.\n"
     ]
    },
    {
     "name": "stderr",
     "output_type": "stream",
     "text": [
      "/home/dispel/anaconda3/lib/python3.7/site-packages/skopt/optimizer/optimizer.py:409: UserWarning: The objective has been evaluated at this point before.\n",
      "  warnings.warn(\"The objective has been evaluated \"\n"
     ]
    },
    {
     "name": "stdout",
     "output_type": "stream",
     "text": [
      "Iteration No: 7 ended. Search finished for the next optimal point.\n",
      "Time taken: 46.1237\n",
      "Function value obtained: 0.1211\n",
      "Current minimum: 0.1211\n",
      "Iteration No: 8 started. Searching for the next optimal point.\n"
     ]
    },
    {
     "name": "stderr",
     "output_type": "stream",
     "text": [
      "/home/dispel/anaconda3/lib/python3.7/site-packages/skopt/optimizer/optimizer.py:409: UserWarning: The objective has been evaluated at this point before.\n",
      "  warnings.warn(\"The objective has been evaluated \"\n"
     ]
    },
    {
     "name": "stdout",
     "output_type": "stream",
     "text": [
      "Iteration No: 8 ended. Search finished for the next optimal point.\n",
      "Time taken: 46.0700\n",
      "Function value obtained: 0.1211\n",
      "Current minimum: 0.1211\n",
      "Iteration No: 9 started. Searching for the next optimal point.\n"
     ]
    },
    {
     "name": "stderr",
     "output_type": "stream",
     "text": [
      "/home/dispel/anaconda3/lib/python3.7/site-packages/skopt/optimizer/optimizer.py:409: UserWarning: The objective has been evaluated at this point before.\n",
      "  warnings.warn(\"The objective has been evaluated \"\n"
     ]
    },
    {
     "name": "stdout",
     "output_type": "stream",
     "text": [
      "Iteration No: 9 ended. Search finished for the next optimal point.\n",
      "Time taken: 45.2736\n",
      "Function value obtained: 0.1211\n",
      "Current minimum: 0.1211\n",
      "Iteration No: 10 started. Searching for the next optimal point.\n"
     ]
    },
    {
     "name": "stderr",
     "output_type": "stream",
     "text": [
      "/home/dispel/anaconda3/lib/python3.7/site-packages/skopt/optimizer/optimizer.py:409: UserWarning: The objective has been evaluated at this point before.\n",
      "  warnings.warn(\"The objective has been evaluated \"\n"
     ]
    },
    {
     "name": "stdout",
     "output_type": "stream",
     "text": [
      "Iteration No: 10 ended. Search finished for the next optimal point.\n",
      "Time taken: 45.0017\n",
      "Function value obtained: 0.1211\n",
      "Current minimum: 0.1211\n",
      "Iteration No: 11 started. Searching for the next optimal point.\n"
     ]
    },
    {
     "name": "stderr",
     "output_type": "stream",
     "text": [
      "/home/dispel/anaconda3/lib/python3.7/site-packages/skopt/optimizer/optimizer.py:409: UserWarning: The objective has been evaluated at this point before.\n",
      "  warnings.warn(\"The objective has been evaluated \"\n"
     ]
    },
    {
     "name": "stdout",
     "output_type": "stream",
     "text": [
      "Iteration No: 11 ended. Search finished for the next optimal point.\n",
      "Time taken: 46.9338\n",
      "Function value obtained: 0.1211\n",
      "Current minimum: 0.1211\n",
      "Iteration No: 12 started. Searching for the next optimal point.\n"
     ]
    },
    {
     "name": "stderr",
     "output_type": "stream",
     "text": [
      "/home/dispel/anaconda3/lib/python3.7/site-packages/skopt/optimizer/optimizer.py:409: UserWarning: The objective has been evaluated at this point before.\n",
      "  warnings.warn(\"The objective has been evaluated \"\n"
     ]
    },
    {
     "name": "stdout",
     "output_type": "stream",
     "text": [
      "Iteration No: 12 ended. Search finished for the next optimal point.\n",
      "Time taken: 46.2148\n",
      "Function value obtained: 0.1211\n",
      "Current minimum: 0.1211\n",
      "Iteration No: 13 started. Searching for the next optimal point.\n"
     ]
    },
    {
     "name": "stderr",
     "output_type": "stream",
     "text": [
      "/home/dispel/anaconda3/lib/python3.7/site-packages/skopt/optimizer/optimizer.py:409: UserWarning: The objective has been evaluated at this point before.\n",
      "  warnings.warn(\"The objective has been evaluated \"\n"
     ]
    },
    {
     "name": "stdout",
     "output_type": "stream",
     "text": [
      "Iteration No: 13 ended. Search finished for the next optimal point.\n",
      "Time taken: 46.0511\n",
      "Function value obtained: 0.1211\n",
      "Current minimum: 0.1211\n",
      "Iteration No: 14 started. Searching for the next optimal point.\n"
     ]
    },
    {
     "name": "stderr",
     "output_type": "stream",
     "text": [
      "/home/dispel/anaconda3/lib/python3.7/site-packages/skopt/optimizer/optimizer.py:409: UserWarning: The objective has been evaluated at this point before.\n",
      "  warnings.warn(\"The objective has been evaluated \"\n"
     ]
    },
    {
     "name": "stdout",
     "output_type": "stream",
     "text": [
      "Iteration No: 14 ended. Search finished for the next optimal point.\n",
      "Time taken: 45.3716\n",
      "Function value obtained: 0.1211\n",
      "Current minimum: 0.1211\n",
      "Iteration No: 15 started. Searching for the next optimal point.\n"
     ]
    },
    {
     "name": "stderr",
     "output_type": "stream",
     "text": [
      "/home/dispel/anaconda3/lib/python3.7/site-packages/skopt/optimizer/optimizer.py:409: UserWarning: The objective has been evaluated at this point before.\n",
      "  warnings.warn(\"The objective has been evaluated \"\n"
     ]
    },
    {
     "name": "stdout",
     "output_type": "stream",
     "text": [
      "Iteration No: 15 ended. Search finished for the next optimal point.\n",
      "Time taken: 46.1178\n",
      "Function value obtained: 0.1211\n",
      "Current minimum: 0.1211\n",
      "Iteration No: 16 started. Searching for the next optimal point.\n"
     ]
    },
    {
     "name": "stderr",
     "output_type": "stream",
     "text": [
      "/home/dispel/anaconda3/lib/python3.7/site-packages/skopt/optimizer/optimizer.py:409: UserWarning: The objective has been evaluated at this point before.\n",
      "  warnings.warn(\"The objective has been evaluated \"\n"
     ]
    },
    {
     "name": "stdout",
     "output_type": "stream",
     "text": [
      "Iteration No: 16 ended. Search finished for the next optimal point.\n",
      "Time taken: 45.5186\n",
      "Function value obtained: 0.1211\n",
      "Current minimum: 0.1211\n",
      "Iteration No: 17 started. Searching for the next optimal point.\n"
     ]
    },
    {
     "name": "stderr",
     "output_type": "stream",
     "text": [
      "/home/dispel/anaconda3/lib/python3.7/site-packages/skopt/optimizer/optimizer.py:409: UserWarning: The objective has been evaluated at this point before.\n",
      "  warnings.warn(\"The objective has been evaluated \"\n"
     ]
    },
    {
     "name": "stdout",
     "output_type": "stream",
     "text": [
      "Iteration No: 17 ended. Search finished for the next optimal point.\n",
      "Time taken: 45.1139\n",
      "Function value obtained: 0.1211\n",
      "Current minimum: 0.1211\n",
      "Iteration No: 18 started. Searching for the next optimal point.\n"
     ]
    },
    {
     "name": "stderr",
     "output_type": "stream",
     "text": [
      "/home/dispel/anaconda3/lib/python3.7/site-packages/skopt/optimizer/optimizer.py:409: UserWarning: The objective has been evaluated at this point before.\n",
      "  warnings.warn(\"The objective has been evaluated \"\n"
     ]
    },
    {
     "name": "stdout",
     "output_type": "stream",
     "text": [
      "Iteration No: 18 ended. Search finished for the next optimal point.\n",
      "Time taken: 46.1562\n",
      "Function value obtained: 0.1211\n",
      "Current minimum: 0.1211\n",
      "Iteration No: 19 started. Searching for the next optimal point.\n"
     ]
    },
    {
     "name": "stderr",
     "output_type": "stream",
     "text": [
      "/home/dispel/anaconda3/lib/python3.7/site-packages/skopt/optimizer/optimizer.py:409: UserWarning: The objective has been evaluated at this point before.\n",
      "  warnings.warn(\"The objective has been evaluated \"\n"
     ]
    },
    {
     "name": "stdout",
     "output_type": "stream",
     "text": [
      "Iteration No: 19 ended. Search finished for the next optimal point.\n",
      "Time taken: 46.0910\n",
      "Function value obtained: 0.1211\n",
      "Current minimum: 0.1211\n",
      "Iteration No: 20 started. Searching for the next optimal point.\n"
     ]
    },
    {
     "name": "stderr",
     "output_type": "stream",
     "text": [
      "/home/dispel/anaconda3/lib/python3.7/site-packages/skopt/optimizer/optimizer.py:409: UserWarning: The objective has been evaluated at this point before.\n",
      "  warnings.warn(\"The objective has been evaluated \"\n"
     ]
    },
    {
     "name": "stdout",
     "output_type": "stream",
     "text": [
      "Iteration No: 20 ended. Search finished for the next optimal point.\n",
      "Time taken: 45.6486\n",
      "Function value obtained: 0.1211\n",
      "Current minimum: 0.1211\n"
     ]
    }
   ],
   "source": [
    "res_svc_base = gp_minimize(objective, space, n_calls=20, acq_func='EI',\\\n",
    "                  n_random_starts=2, random_state=1, verbose=True)"
   ]
  },
  {
   "cell_type": "code",
   "execution_count": 332,
   "metadata": {},
   "outputs": [
    {
     "data": {
      "text/plain": [
       "[999.0405162836296, 236.08974086299918, 'linear']"
      ]
     },
     "execution_count": 332,
     "metadata": {},
     "output_type": "execute_result"
    }
   ],
   "source": [
    "res_svc_base.x"
   ]
  },
  {
   "cell_type": "code",
   "execution_count": 333,
   "metadata": {},
   "outputs": [
    {
     "data": {
      "text/plain": [
       "(0.8788968824940048, 0.84688995215311)"
      ]
     },
     "execution_count": 333,
     "metadata": {},
     "output_type": "execute_result"
    }
   ],
   "source": [
    "clf = SVC(C=res_svc_base.x[0], gamma=res_svc_base.x[1], \\\n",
    "          kernel=res_svc_base.x[2])\n",
    "clf.fit(X_train, y_train)\n",
    "clf.score(X_train, y_train), clf.score(X_test, y_test)"
   ]
  },
  {
   "cell_type": "code",
   "execution_count": null,
   "metadata": {},
   "outputs": [],
   "source": []
  },
  {
   "cell_type": "code",
   "execution_count": null,
   "metadata": {},
   "outputs": [],
   "source": []
  },
  {
   "cell_type": "code",
   "execution_count": 334,
   "metadata": {},
   "outputs": [
    {
     "data": {
      "image/png": "[encoded data removed]",
      "text/plain": [
       "<Figure size 864x576 with 1 Axes>"
      ]
     },
     "metadata": {
      "needs_background": "light"
     },
     "output_type": "display_data"
    }
   ],
   "source": [
    "from sklearn.model_selection import StratifiedKFold\n",
    "from sklearn.metrics import auc\n",
    "from sklearn.metrics import plot_roc_curve\n",
    "\n",
    "cv = StratifiedKFold(n_splits=6)\n",
    "classifier = SVC(C=res_svc_base.x[0], gamma=res_svc_base.x[1], \\\n",
    "                     kernel=res_svc_base.x[2],\\\n",
    "                 random_state=1)\n",
    "tprs = []\n",
    "aucs = []\n",
    "mean_fpr = np.linspace(0, 1, 100)\n",
    "fig, ax = plt.subplots(figsize=(12,8))\n",
    "for i, (train, test) in enumerate(cv.split(X, y_le_base)):\n",
    "    classifier.fit(X[train], y_le_base[train])\n",
    "    viz = plot_roc_curve(classifier, X[test], y_le_base[test],\n",
    "                         name='ROC fold {}'.format(i),\n",
    "                         alpha=0.3, lw=1, ax=ax)\n",
    "    interp_tpr = np.interp(mean_fpr, viz.fpr, viz.tpr)\n",
    "    interp_tpr[0] = 0.0\n",
    "    tprs.append(interp_tpr)\n",
    "    aucs.append(viz.roc_auc)\n",
    "    \n",
    "ax.plot([0, 1], [0, 1], linestyle='--', lw=2, color='r',\n",
    "        label='Chance', alpha=.8)\n",
    "\n",
    "mean_tpr = np.mean(tprs, axis=0)\n",
    "mean_tpr[-1] = 1.0\n",
    "mean_auc = auc(mean_fpr, mean_tpr)\n",
    "std_auc = np.std(aucs)\n",
    "ax.plot(mean_fpr, mean_tpr, color='b',\\\n",
    "        label=r'Mean ROC (AUC = %0.2f $\\pm$ %0.2f)' % (mean_auc, std_auc),\\\n",
    "        lw=2, alpha=.8)\n",
    "std_tpr = np.std(tprs, axis=0)\n",
    "tprs_upper = np.minimum(mean_tpr + std_tpr, 1)\n",
    "tprs_lower = np.maximum(mean_tpr - std_tpr, 0)\n",
    "ax.fill_between(mean_fpr, tprs_lower, tprs_upper, color='grey', alpha=.2,\\\n",
    "                label=r'$\\pm$ 1 std. dev.')\n",
    "\n",
    "ax.set(xlim=[-0.05, 1.05], ylim=[-0.05, 1.05],\\\n",
    "       title=\"Receiver operating characteristic SVC base\")\n",
    "ax.legend(loc=\"lower right\")\n",
    "plt.savefig('./roc_auc_svc_base.png')\n",
    "plt.show()"
   ]
  },
  {
   "cell_type": "code",
   "execution_count": null,
   "metadata": {},
   "outputs": [],
   "source": []
  },
  {
   "cell_type": "code",
   "execution_count": 85,
   "metadata": {},
   "outputs": [],
   "source": [
    "data = data.dropna()"
   ]
  },
  {
   "cell_type": "code",
   "execution_count": null,
   "metadata": {},
   "outputs": [],
   "source": []
  },
  {
   "cell_type": "code",
   "execution_count": 218,
   "metadata": {},
   "outputs": [],
   "source": [
    "AC = data[['covar.2d', 'Allele.Frequency']].values\n",
    "patho = data['simplified.significance'].values"
   ]
  },
  {
   "cell_type": "code",
   "execution_count": 219,
   "metadata": {},
   "outputs": [],
   "source": [
    "AC = AC[np.where((patho == 'pathogenic') | (patho == 'benign'))]\n",
    "patho = patho[np.where((patho == 'pathogenic') | (patho == 'benign'))]"
   ]
  },
  {
   "cell_type": "code",
   "execution_count": 220,
   "metadata": {},
   "outputs": [],
   "source": [
    "le = LabelEncoder()\n",
    "patho_le = le.fit_transform(patho)"
   ]
  },
  {
   "cell_type": "code",
   "execution_count": 124,
   "metadata": {},
   "outputs": [],
   "source": [
    "std = StandardScaler()\n",
    "AC_std = std.fit_transform(AC)"
   ]
  },
  {
   "cell_type": "code",
   "execution_count": 125,
   "metadata": {},
   "outputs": [],
   "source": [
    "X_train, X_test, y_train, y_test = train_test_split(AC_std, patho_le, test_size=0.2,\\\n",
    "                                                   random_state=1)"
   ]
  },
  {
   "cell_type": "code",
   "execution_count": 126,
   "metadata": {},
   "outputs": [
    {
     "data": {
      "text/plain": [
       "(0.7641509433962265, 0.7037037037037037)"
      ]
     },
     "execution_count": 126,
     "metadata": {},
     "output_type": "execute_result"
    }
   ],
   "source": [
    "lr = LogisticRegression()\n",
    "lr.fit(X_train, y_train)\n",
    "lr.score(X_train, y_train), lr.score(X_test, y_test)"
   ]
  },
  {
   "cell_type": "code",
   "execution_count": 127,
   "metadata": {},
   "outputs": [
    {
     "data": {
      "text/plain": [
       "0.7037037037037037"
      ]
     },
     "execution_count": 127,
     "metadata": {},
     "output_type": "execute_result"
    }
   ],
   "source": [
    "clf = SVC()\n",
    "clf.fit(X_train, y_train)\n",
    "clf.score(X_test, y_test)"
   ]
  },
  {
   "cell_type": "code",
   "execution_count": 255,
   "metadata": {},
   "outputs": [
    {
     "data": {
      "image/png": "[encoded data removed]",
      "text/plain": [
       "<Figure size 864x576 with 1 Axes>"
      ]
     },
     "metadata": {
      "needs_background": "light"
     },
     "output_type": "display_data"
    }
   ],
   "source": [
    "color = np.where(patho == 'pathogenic', 'red', 'blue')\n",
    "plt.figure(figsize=(12,8))\n",
    "plt.scatter(AC[:,1][patho == 'pathogenic'], AC[:,0][patho == 'pathogenic'], \\\n",
    "            c=color[patho == 'pathogenic'], alpha=0.4, label='pathogenic')\n",
    "plt.scatter(AC[:,1][patho == 'benign'], AC[:,0][patho == 'benign'], \\\n",
    "            c=color[patho == 'benign'], alpha=0.4, label='benign')\n",
    "plt.xlabel('Allele.Frequency')\n",
    "plt.ylabel('covar.2d')\n",
    "plt.title('Alle.Frequency and covar.2d Scatter Plot')\n",
    "plt.legend()\n",
    "plt.savefig('./scatterplot.png')"
   ]
  },
  {
   "cell_type": "code",
   "execution_count": null,
   "metadata": {},
   "outputs": [],
   "source": []
  },
  {
   "cell_type": "code",
   "execution_count": 132,
   "metadata": {},
   "outputs": [],
   "source": [
    "import statsmodels.api as sm"
   ]
  },
  {
   "cell_type": "code",
   "execution_count": 141,
   "metadata": {},
   "outputs": [],
   "source": [
    "data = sm.datasets.scotland.load(as_pandas=False)"
   ]
  },
  {
   "cell_type": "code",
   "execution_count": 336,
   "metadata": {},
   "outputs": [],
   "source": [
    "X_train = sm.add_constant(X_train)"
   ]
  },
  {
   "cell_type": "code",
   "execution_count": 337,
   "metadata": {},
   "outputs": [
    {
     "name": "stderr",
     "output_type": "stream",
     "text": [
      "/home/dispel/anaconda3/lib/python3.7/site-packages/ipykernel_launcher.py:2: DeprecationWarning: Calling Family(..) with a link class as argument is deprecated.\n",
      "Use an instance of a link class instead.\n",
      "  \n"
     ]
    }
   ],
   "source": [
    "mod = sm.GLM(y_train, X_train, \\\n",
    "             family=sm.families.Binomial(link=sm.genmod.families.links.logit))"
   ]
  },
  {
   "cell_type": "code",
   "execution_count": 338,
   "metadata": {},
   "outputs": [],
   "source": [
    "mod_results = mod.fit()"
   ]
  },
  {
   "cell_type": "code",
   "execution_count": 339,
   "metadata": {},
   "outputs": [
    {
     "name": "stdout",
     "output_type": "stream",
     "text": [
      "                 Generalized Linear Model Regression Results                  \n",
      "==============================================================================\n",
      "Dep. Variable:                      y   No. Observations:                  834\n",
      "Model:                            GLM   Df Residuals:                      831\n",
      "Model Family:                Binomial   Df Model:                            2\n",
      "Link Function:                  logit   Scale:                          1.0000\n",
      "Method:                          IRLS   Log-Likelihood:                -224.36\n",
      "Date:                Sun, 26 Apr 2020   Deviance:                       448.72\n",
      "Time:                        01:21:07   Pearson chi2:                     780.\n",
      "No. Iterations:                     7                                         \n",
      "Covariance Type:            nonrobust                                         \n",
      "==============================================================================\n",
      "                 coef    std err          z      P>|z|      [0.025      0.975]\n",
      "------------------------------------------------------------------------------\n",
      "const         -0.4834      0.222     -2.174      0.030      -0.919      -0.048\n",
      "x1             0.3703      0.071      5.186      0.000       0.230       0.510\n",
      "x2             3.3308      0.443      7.516      0.000       2.462       4.199\n",
      "==============================================================================\n"
     ]
    }
   ],
   "source": [
    "print(mod_results.summary())"
   ]
  },
  {
   "cell_type": "code",
   "execution_count": 340,
   "metadata": {},
   "outputs": [],
   "source": [
    "X_test = sm.add_constant(X_test)\n",
    "preds = (mod.predict(mod_results.params, X_test) > 0.5) * 1"
   ]
  },
  {
   "cell_type": "code",
   "execution_count": 341,
   "metadata": {},
   "outputs": [],
   "source": [
    "from sklearn.metrics import accuracy_score"
   ]
  },
  {
   "cell_type": "code",
   "execution_count": 342,
   "metadata": {},
   "outputs": [
    {
     "data": {
      "text/plain": [
       "0.8803827751196173"
      ]
     },
     "execution_count": 342,
     "metadata": {},
     "output_type": "execute_result"
    }
   ],
   "source": [
    "accuracy_score(y_test, preds)"
   ]
  },
  {
   "cell_type": "code",
   "execution_count": 343,
   "metadata": {},
   "outputs": [
    {
     "data": {
      "text/plain": [
       "0.861244019138756"
      ]
     },
     "execution_count": 343,
     "metadata": {},
     "output_type": "execute_result"
    }
   ],
   "source": [
    "lr = LogisticRegression()\n",
    "lr.fit(X_train, y_train)\n",
    "lr.score(X_test, y_test)"
   ]
  },
  {
   "cell_type": "code",
   "execution_count": null,
   "metadata": {},
   "outputs": [],
   "source": []
  }
 ],
 "metadata": {
  "kernelspec": {
   "display_name": "Python 3",
   "language": "python",
   "name": "python3"
  },
  "language_info": {
   "codemirror_mode": {
    "name": "ipython",
    "version": 3
   },
   "file_extension": ".py",
   "mimetype": "text/x-python",
   "name": "python",
   "nbconvert_exporter": "python",
   "pygments_lexer": "ipython3",
   "version": "3.7.4"
  }
 },
 "nbformat": 4,
 "nbformat_minor": 4
}
